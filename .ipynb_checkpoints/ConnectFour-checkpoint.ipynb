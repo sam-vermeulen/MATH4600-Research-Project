{
 "cells": [
  {
   "cell_type": "code",
   "execution_count": 1,
   "id": "deb91a6a-c99a-44ee-b26a-c5bbbd20b848",
   "metadata": {},
   "outputs": [],
   "source": [
    "import numpy as np\n",
    "\n",
    "np.set_printoptions(linewidth=100000)"
   ]
  },
  {
   "cell_type": "code",
   "execution_count": null,
   "id": "c8a41ed7-2c67-435b-921d-c44d4404866e",
   "metadata": {},
   "outputs": [],
   "source": []
  },
  {
   "cell_type": "code",
   "execution_count": 140,
   "id": "f95f0374-4e54-49ad-90a0-ab58af9b905b",
   "metadata": {
    "tags": []
   },
   "outputs": [],
   "source": [
    "class ConnectFour():\n",
    "    def __init__(self, n_games=1):\n",
    "        self.board_dim = (6,7)\n",
    "        self.n_games = n_games\n",
    "        self.current_position = np.zeros(n_games, dtype=np.uint64)\n",
    "        self.mask = np.zeros(n_games, dtype=np.uint64)\n",
    "        self.moves = np.zeros(n_games, dtype=np.uint64)\n",
    "        self.active_mask = np.ones(n_games, dtype=np.uint64)\n",
    "        self.turn_mask = np.zeros(n_games, dtype=np.uint64)\n",
    "        \n",
    "        self.__pieces = np.reshape(2 << (np.array(np.linspace(0, 48, 49), dtype=np.uint64) - 1), (7, 7)).T\n",
    "        self.__pieces[0][0] = 1\n",
    "        self.__pieces = np.flip(self.__pieces, 0)\n",
    "    \n",
    "    def __top_mask(self, col):\n",
    "        return np.left_shift(1, self.board_dim[0] - 1) << (col * (self.board_dim[0] + 1))\n",
    "\n",
    "    def __bottom_mask(self, col):\n",
    "        return np.left_shift(1, col * (self.board_dim[0] + 1))\n",
    "\n",
    "    def __column_mask(self, col):\n",
    "        return (np.left_shift(1, self.board_dim[0]) - 1) << (col * (self.board_dim[0] + 1))\n",
    "    \n",
    "    def __alignment(self, pos):\n",
    "        m = pos & (pos >> (self.board_dim[0] + 1))\n",
    "        horizontal = np.where(m & (m >> (2 * (self.board_dim[0] + 1))), 1, 0)\n",
    "\n",
    "        m = pos & (pos >> self.board_dim[0])\n",
    "        diag_a = np.where(m & (m >> (2 * self.board_dim[0])), 1, 0)\n",
    "\n",
    "        m = pos & (pos >> (self.board_dim[0] + 2))\n",
    "        diag_b = np.where(m & (m >> (2 * (self.board_dim[0] + 2))), 1, 0)\n",
    "\n",
    "        m = pos & pos >> 1\n",
    "        vertical = np.where(m & (m >> 2), 1, 0)\n",
    "        \n",
    "        alignment = horizontal | diag_a | diag_b | vertical\n",
    "        \n",
    "        return alignment\n",
    "    \n",
    "    def __update_active_mask(self):\n",
    "        self.active_mask = np.where(self.is_alignment(), 0, 1)\n",
    "    \n",
    "    def is_alignment(self):\n",
    "        return self.player_alignment() | self.opponent_alignment()\n",
    "        \n",
    "    def player_alignment(self):\n",
    "        return self.__alignment(self.current_position)\n",
    "    \n",
    "    def opponent_alignment(self):\n",
    "        pos = self.mask ^ self.current_position\n",
    "        return self.__alignment(pos)\n",
    "    \n",
    "    def can_play(self, col):\n",
    "        return (self.mask & self.__top_mask(col)) == 0\n",
    "    \n",
    "    def get_legal_moves(self):\n",
    "        return np.squeeze(self.can_play(np.array([[0], [1], [2], [3], [4], [5], [6]], dtype=np.uint64))).T\n",
    "    \n",
    "    def get_key(self):\n",
    "        return self.current_position + self.mask\n",
    "    \n",
    "    def play(self, col, verbose=False):\n",
    "        is_legal = self.active_mask & self.can_play(col)\n",
    "        \n",
    "        self.current_position = np.where(is_legal, self.current_position ^ self.mask, self.current_position)\n",
    "        self.mask = np.where(is_legal, self.mask | (self.mask + self.__bottom_mask(col)), self.mask)\n",
    "        self.turn_mask = np.where(is_legal, 1 - self.turn_mask, self.turn_mask)\n",
    "        \n",
    "        self.__update_active_mask()\n",
    "        \n",
    "        if verbose:\n",
    "            print(\"legality\", is_legal)\n",
    "            print(\"active\", self.active_mask)\n",
    "            print(\"turn\", self.turn_mask)\n",
    "            print(\"cpos\", self.current_position)\n",
    "            print(\"mask\", self.mask)\n",
    "    \n",
    "    def to_array(self, game = 0):\n",
    "        current_player = np.where(self.__pieces & self.current_position[game] != 0, self.turn_mask[game] + 1, 0)\n",
    "        other_player = np.where(self.__pieces & (self.current_position ^ self.mask)[game] != 0, 2 - self.turn_mask[game], 0)\n",
    "        return np.array(current_player + other_player, dtype=np.uint64)"
   ]
  },
  {
   "cell_type": "code",
   "execution_count": 256,
   "id": "8e9bb17b-3a99-4abc-92d8-d476ddd81caa",
   "metadata": {
    "tags": []
   },
   "outputs": [],
   "source": [
    "def pure_random_ai(board):\n",
    "    \n",
    "    legal_moves = board.get_legal_moves()\n",
    "    scores = np.random.uniform(size=(board.n_games, 7))\n",
    "    scores = np.where(legal_moves, scores, np.nan)\n",
    "    choices = np.array(np.nanargmax(scores, axis=-1), dtype=np.uint64)\n",
    "    \n",
    "    return choices\n",
    "\n",
    "class Simulator():\n",
    "    def __init__(self, AI, n_games=1):\n",
    "        self.n_games = n_games\n",
    "        self.board = ConnectFour(n_games)\n",
    "        self.turn = 0\n",
    "        self.AI = AI\n",
    "        \n",
    "    def start(self, verbose=False):\n",
    "        for i in range(42):\n",
    "            choices = self.AI[self.turn](self.board)\n",
    "\n",
    "            if verbose:\n",
    "                print(\"choices\", choices)\n",
    "\n",
    "            self.board.play(choices)\n",
    "            self.turn = 1 - self.turn\n",
    "        \n",
    "        print(self.board.to_array())"
   ]
  },
  {
   "cell_type": "code",
   "execution_count": 278,
   "id": "98e62ead-d844-471a-88c2-c10d0921c008",
   "metadata": {
    "tags": []
   },
   "outputs": [],
   "source": [
    "sim = Simulator([pure_random_ai, pure_random_ai], 3_000_000)"
   ]
  },
  {
   "cell_type": "code",
   "execution_count": 279,
   "id": "258145cc-0e38-4cb4-8a99-f46b800205d5",
   "metadata": {},
   "outputs": [
    {
     "name": "stdout",
     "output_type": "stream",
     "text": [
      "[[0 0 0 0 0 0 0]\n",
      " [0 0 0 0 0 0 0]\n",
      " [0 0 0 0 0 0 0]\n",
      " [0 0 0 0 0 1 2]\n",
      " [0 1 0 0 0 1 1]\n",
      " [2 2 0 0 2 1 1]\n",
      " [1 1 0 2 2 2 2]]\n",
      "Wall time: 41.7 s\n"
     ]
    }
   ],
   "source": [
    "%time sim.start(False)"
   ]
  },
  {
   "cell_type": "code",
   "execution_count": 283,
   "id": "bd71441f-ffca-4765-ba02-8f1ccca69efd",
   "metadata": {},
   "outputs": [],
   "source": [
    "winners = 1 - sim.board.turn_mask"
   ]
  },
  {
   "cell_type": "code",
   "execution_count": 284,
   "id": "82782ea4-bd79-4479-a611-c460818dee5e",
   "metadata": {},
   "outputs": [
    {
     "name": "stdout",
     "output_type": "stream",
     "text": [
      "1332125\n"
     ]
    }
   ],
   "source": [
    "print(np.count_nonzero(winners))"
   ]
  },
  {
   "cell_type": "code",
   "execution_count": 285,
   "id": "86392913-2451-4460-90bc-12af392d48dc",
   "metadata": {},
   "outputs": [
    {
     "name": "stdout",
     "output_type": "stream",
     "text": [
      "1667875\n"
     ]
    }
   ],
   "source": [
    "print(3_000_000 - np.count_nonzero(winners))"
   ]
  }
 ],
 "metadata": {
  "kernelspec": {
   "display_name": "Python 3",
   "language": "python",
   "name": "python3"
  },
  "language_info": {
   "codemirror_mode": {
    "name": "ipython",
    "version": 3
   },
   "file_extension": ".py",
   "mimetype": "text/x-python",
   "name": "python",
   "nbconvert_exporter": "python",
   "pygments_lexer": "ipython3",
   "version": "3.8.8"
  }
 },
 "nbformat": 4,
 "nbformat_minor": 5
}
