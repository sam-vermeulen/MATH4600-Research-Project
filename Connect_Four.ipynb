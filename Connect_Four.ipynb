{
  "cells": [
    {
      "cell_type": "markdown",
      "metadata": {
        "id": "view-in-github",
        "colab_type": "text"
      },
      "source": [
        "<a href=\"https://colab.research.google.com/github/sam-vermeulen/MATH4600-Research-Project/blob/main/Connect_Four.ipynb\" target=\"_parent\"><img src=\"https://colab.research.google.com/assets/colab-badge.svg\" alt=\"Open In Colab\"/></a>"
      ]
    },
    {
      "cell_type": "code",
      "execution_count": 15,
      "metadata": {
        "id": "G5Uh0sEKSepz"
      },
      "outputs": [],
      "source": [
        "import jax\n",
        "import jax.numpy as jnp\n",
        "import numpy as np\n",
        "import matplotlib.pyplot as plt\n",
        "import time\n",
        "\n",
        "jax.config.update(\"jax_enable_x64\", True)\n",
        "\n",
        "N_ROW = 6\n",
        "N_COL = 7\n",
        "\n",
        "assert N_ROW * N_COL << 64\n",
        "\n",
        "BITBOARD = jnp.uint64\n",
        "PIECE_LOCATIONS = jnp.array( [[ 2**(col + N_COL * row)  for col in range(N_COL)] for row in range(N_ROW)], dtype = BITBOARD)\n",
        "ILLEGAL_MOVE_FLAG = -1"
      ]
    },
    {
      "cell_type": "markdown",
      "metadata": {
        "id": "L9mcGpZzlTMn"
      },
      "source": [
        "## BITBOARD HELPER FUNCTIONS"
      ]
    },
    {
      "cell_type": "code",
      "execution_count": 62,
      "metadata": {
        "id": "Jtzf7lFhlUuc"
      },
      "outputs": [],
      "source": [
        "def is_subset(bb_sub, bb_super):\n",
        "  return jnp.bitwise_and(bb_sub, jnp.bitwise_not(bb_super)) == 0\n",
        "\n",
        "def is_empty_intersection(bb_sub, bb_super):\n",
        "  return jnp.bitwise_and(bb_sub, bb_super) == 0\n",
        "\n",
        "def bitboard_to_array(bitboard):\n",
        "  '''Converts a bitboard to a boolean array'''\n",
        "  # input: bitboard - a bitboard\n",
        "  # output: the array representation of the bitboard\n",
        "  return jnp.bitwise_not(is_empty_intersection(bitboard, PIECE_LOCATIONS))\n",
        "\n",
        "def array_to_bitboard(array):\n",
        "  '''Converts an boolean array to a bitboard'''\n",
        "  # input: array - a boolean array\n",
        "  # output: the bitboard representatino of the array\n",
        "  return jnp.sum(jnp.sum(array * PIECE_LOCATIONS, axis=-1), axis=-1)\n",
        "\n",
        "def GenerateKinARow(k):\n",
        "    '''Return an array with all the boards that contain k pieces in a line'''\n",
        "    # input: k an integer\n",
        "    # output: A bb vector of shape (N_k_in_a_lines,) with all the k in a lines\n",
        "    # rmk: Uses some numpy functions for convenience in the loop\n",
        "    return jnp.array(\n",
        "        [ np.sum([PIECE_LOCATIONS[x,y+i] for i in range(k)]) for x,y in np.ndindex(N_ROW,N_COL-k+1)] +\n",
        "        [ np.sum([PIECE_LOCATIONS[x+i,y] for i in range(k)]) for x,y in np.ndindex(N_ROW-k+1,N_COL)] +\n",
        "        [ np.sum([PIECE_LOCATIONS[x+i,y+i] for i in range(k)]) for x,y in np.ndindex(N_ROW-k+1,N_COL-k+1)] +\n",
        "        [ np.sum([PIECE_LOCATIONS[x+i,N_COL-1-(y+i)] for i in range(k)]) for x,y in np.ndindex(N_ROW-k+1,N_COL-k+1)]\n",
        "        ,dtype=BITBOARD)\n",
        "\n",
        "FOUR_IN_A_LINE = GenerateKinARow(4)"
      ]
    },
    {
      "cell_type": "markdown",
      "metadata": {
        "id": "1zVqG8l1lWQy"
      },
      "source": [
        "## CONNECT FOUR"
      ]
    },
    {
      "cell_type": "code",
      "execution_count": 141,
      "metadata": {
        "id": "R-zWacmcSj9D"
      },
      "outputs": [],
      "source": [
        "class ConnectFour():\n",
        "  '''Connect Four Game (Parallel)'''\n",
        "\n",
        "  # game_info - bitboard array of shape (n_game, 2)\n",
        "  # move_info - the index that a piece would settle if it would be played in the \n",
        "  #           - of shape (..., 5)\n",
        "  # player_ix - the current players in all games\n",
        "  # active_games - (..., 1) boolean array of active games\n",
        "\n",
        "  def __init__(self, n_games = 1, starting_player = 0, dtype=BITBOARD):\n",
        "    \n",
        "    self.player_ix = starting_player\n",
        "    self.n_games = n_games\n",
        "    self.game_state = jnp.zeros((n_games, 2), dtype=BITBOARD)\n",
        "    self.move_info = (N_ROW - 1) * jnp.ones((n_games, N_COL), dtype = int)\n",
        "    self.active_games = jnp.ones((n_games,1), dtype=bool)\n",
        "\n",
        "  def get_possible_moves(self):\n",
        "    '''Returns all the allowed moves from a given gamestate when it is playr_ix's turn'''\n",
        "\n",
        "    # bitboard of all locations played\n",
        "    played_bb = jnp.sum(self.game_state, axis=-1, dtype = BITBOARD)\n",
        "\n",
        "    # boolean array of locations that have been played\n",
        "    unplayed_locs = is_empty_intersection(played_bb[..., jnp.newaxis, jnp.newaxis], PIECE_LOCATIONS)\n",
        "\n",
        "    # bitboard array of pieces that havn't been played\n",
        "    unplayed_bb = unplayed_locs * PIECE_LOCATIONS\n",
        "\n",
        "    # maximum unplayed piece in each column\n",
        "    max_unplayed_bb = jnp.amax(unplayed_bb, axis = -2)\n",
        "\n",
        "    # row index of legal moves\n",
        "    move_ix = (jnp.argmax(jnp.logical_not(unplayed_locs), axis=-2) - 1) % N_ROW\n",
        "\n",
        "    p0_move = jnp.stack([max_unplayed_bb, jnp.zeros_like(max_unplayed_bb)], axis=-1) \n",
        "\n",
        "    moves = jax.lax.cond(self.player_ix == 0, lambda x:x, lambda x:jnp.flip(x, axis=-1), p0_move)\n",
        "\n",
        "    new_game_states = self.game_state[..., jnp.newaxis, :] | moves\n",
        "\n",
        "    legal = (max_unplayed_bb > 0)\n",
        "\n",
        "    move_info = jnp.where(legal, move_ix, ILLEGAL_MOVE_FLAG)\n",
        "\n",
        "    return new_game_states, move_info\n",
        "\n",
        "  def play_move(self, choice):\n",
        "    #Input:\n",
        "    #  choice =  An integer array of shape (...) with which move is to be played \n",
        "    #Output: A tuple moves, legal\n",
        "    #  new_game_state = A bb array of shape (...,2) with the \n",
        "    #        postion after all the possible moves\n",
        "    #  move_info = An array of shape (...,N_Possible_Moves) with info on the N_Possible_Moves \n",
        "    #             If the move is legal: The ROW the move will be played in\n",
        "    #             If the move is illegal: A Illegal_Move_Flag (= -1)\n",
        "\n",
        "    #The index of the row to play in (computed using move_info)\n",
        "    # shape: (pre-shape, 1)\n",
        "    chosen_col = jnp.expand_dims(choice, axis=-1)\n",
        "    chosen_row = jnp.take_along_axis(self.move_info, chosen_col, axis=-1)\n",
        "\n",
        "    # The bb of the piece to be played (note we reduce the dimension down)\n",
        "    # shape: (pre-shape)\n",
        "    move_pieces = jnp.squeeze(PIECE_LOCATIONS[chosen_row, chosen_col], axis=-1)\n",
        "\n",
        "    # The bb of the state to be added on if its p0's turn\n",
        "    # shape: (pre-shape,2)\n",
        "    p0_move = jnp.stack([move_pieces, jnp.zeros_like(move_pieces)], axis=-1) \n",
        "    \n",
        "    # For the other player we have to swap these\n",
        "    # We put this if statement into lax.cond instead of \"if\" so it is jit-able\n",
        "    the_move = jax.lax.cond(self.player_ix == 0, lambda x:x, lambda x:jnp.flip(x,axis=-1), p0_move)\n",
        "    \n",
        "    #Add the moves to the game_state and ensure correct brodcasting\n",
        "    # Note: we use | instead of + for safety/speed...it shouldn't matter!\n",
        "    # shape: (pre-shape, 2)\n",
        "    new_game_state = self.game_state | the_move\n",
        "    # update move_info by subtracting one from each location where we played\n",
        "    new_move_info = self.move_info - jax.nn.one_hot(choice, N_COL, dtype=int)\n",
        "\n",
        "    self.game_state = jnp.where(self.active_games, new_game_state, self.game_state)\n",
        "    self.move_info = jnp.where(self.active_games, new_move_info, self.move_info)\n",
        "    self.player_ix = not self.player_ix\n",
        "\n",
        "  def get_num_four_in_row(self, player_ix):\n",
        "    '''Return the number of 4 in a lines in a single BitBoard'''\n",
        "    #Input: player_ix - the player to check\n",
        "    #Output A boolean (or an array of the same shape of boolean)\n",
        "    return jnp.sum(is_subset(FOUR_IN_A_LINE, self.game_state[..., player_ix, jnp.newaxis]), axis=-1)\n",
        "\n",
        "  def has_connect_four(self, player_ix):\n",
        "    '''checks if player player_ix has four in a row'''\n",
        "    #input: player_ix - the player to check\n",
        "    return self.get_num_four_in_row(player_ix) > 0\n",
        "\n",
        "  def draw_game(self, game_num = 0, player_color = ['red','black']):\n",
        "    '''Use matplotlib to draw the board in text given the bitboards for player 1 and player 2'''\n",
        "    #Input: A game_state of shape (2,) with two bitboards\n",
        "    #Output: Draws a graph with the game \n",
        "\n",
        "    fig, ax = plt.subplots() \n",
        "    plt.xlim(-0.5, N_COL - 0.5)\n",
        "    plt.ylim(N_ROW - 0.5, -0.5)\n",
        "    ax.patch.set_facecolor('lightgrey')\n",
        "\n",
        "    piece_array = jnp.array([bitboard_to_array(self.game_state[game_num][0]), bitboard_to_array(self.game_state[game_num][1])]) \n",
        "\n",
        "    for x in range(N_COL):\n",
        "      for y in range(N_ROW):\n",
        "        outline = plt.Circle((x,y), 0.45, color='white')\n",
        "        ax.add_patch(outline)\n",
        "\n",
        "        for player_ix in range(2):\n",
        "          if piece_array[player_ix, y,x]:\n",
        "            piece = plt.Circle((x,y), 0.45, color = player_color[player_ix])\n",
        "            ax.add_patch(piece)\n",
        "\n",
        "  plt.show()\n",
        "\n",
        "  def update_active_games(self):\n",
        "    finished_games = jnp.bitwise_or(self.has_connect_four(0), self.has_connect_four(1))[:, jnp.newaxis]\n",
        "    self.active_games = jnp.bitwise_not(finished_games)"
      ]
    },
    {
      "cell_type": "markdown",
      "metadata": {
        "id": "-aWjqu_FlYd2"
      },
      "source": [
        "## GAME"
      ]
    },
    {
      "cell_type": "code",
      "source": [
        "class RandomGamesSimulator():\n",
        "  def __init__(self, n_games, starting_player, verbose = False):\n",
        "    self.n_games = n_games\n",
        "    self.starting_player = starting_player\n",
        "    self.connect_four = ConnectFour(n_games = self.n_games, starting_player = self.starting_player)\n",
        "\n",
        "  def start(self, key = None):\n",
        "    if key == None:\n",
        "      key = jax.random.PRNGKey(int(time.time()))\n",
        "\n",
        "    for i in range(N_COL * N_ROW):\n",
        "      key, subkey = jax.random.split(key)\n",
        "\n",
        "      # randomly chooses a legal column to play piece.\n",
        "      scores = jax.random.uniform(key, jnp.shape(self.connect_four.move_info))\n",
        "      illegal_moves = (self.connect_four.move_info == ILLEGAL_MOVE_FLAG)\n",
        "      scores = jnp.where(illegal_moves, jnp.nan, scores)\n",
        "      choices = jnp.nanargmax(scores, axis=-1)\n",
        "\n",
        "      # play move choice and update the active games.\n",
        "      self.connect_four.play_move(choices)\n",
        "      self.connect_four.update_active_games()"
      ],
      "metadata": {
        "id": "C8YYbqvliC0A"
      },
      "execution_count": 139,
      "outputs": []
    },
    {
      "cell_type": "code",
      "source": [
        "game = RandomGamesSimulator(n_games = 1_000_000, starting_player = 0)\n",
        "game.start()"
      ],
      "metadata": {
        "id": "8v6TY9wPob1j"
      },
      "execution_count": 156,
      "outputs": []
    },
    {
      "cell_type": "code",
      "source": [
        "game.connect_four.draw_game(0)"
      ],
      "metadata": {
        "colab": {
          "base_uri": "https://localhost:8080/",
          "height": 265
        },
        "id": "ZZBNvEZrpB6Y",
        "outputId": "68c1a6ff-3a9a-42a5-dce2-d41dbc4e45f5"
      },
      "execution_count": 168,
      "outputs": [
        {
          "output_type": "display_data",
          "data": {
            "text/plain": [
              "<Figure size 432x288 with 1 Axes>"
            ],
            "image/png": "[encoded data removed]"
          },
          "metadata": {
            "needs_background": "light"
          }
        }
      ]
    }
  ],
  "metadata": {
    "colab": {
      "collapsed_sections": [],
      "provenance": [],
      "authorship_tag": "ABX9TyMmMxpfKDpDOuhWIEPOH+58",
      "include_colab_link": true
    },
    "kernelspec": {
      "display_name": "Python 3",
      "name": "python3"
    },
    "language_info": {
      "name": "python"
    }
  },
  "nbformat": 4,
  "nbformat_minor": 0
}