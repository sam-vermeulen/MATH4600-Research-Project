{
  "cells": [
    {
      "cell_type": "markdown",
      "metadata": {
        "id": "view-in-github",
        "colab_type": "text"
      },
      "source": [
        "<a href=\"https://colab.research.google.com/github/sam-vermeulen/MATH4600-Research-Project/blob/main/FastConnectFour.ipynb\" target=\"_parent\"><img src=\"https://colab.research.google.com/assets/colab-badge.svg\" alt=\"Open In Colab\"/></a>"
      ]
    },
    {
      "cell_type": "code",
      "execution_count": 1,
      "metadata": {
        "id": "PCE6arcwz9C7"
      },
      "outputs": [],
      "source": [
        "import jax.numpy as jnp\n",
        "import jax\n",
        "\n",
        "import numpy as np\n",
        "import functools\n",
        "\n",
        "import time\n",
        "\n",
        "import matplotlib.pyplot as plt\n",
        "\n",
        "jnp.set_printoptions(precision=100, linewidth=100000)\n",
        "jax.config.update(\"jax_enable_x64\", True)"
      ]
    },
    {
      "cell_type": "markdown",
      "metadata": {
        "id": "wStcVuHp1qt2"
      },
      "source": [
        "# Connect Four\n",
        "\n",
        "The code for this environment is an adaptation of the implementations by Pascal Pon (http://blog.gamesolver.org/) and John Tromp (https://tromp.github.io/c4/c4.html)"
      ]
    },
    {
      "cell_type": "code",
      "execution_count": 2,
      "metadata": {
        "id": "lByJjns20Cdw"
      },
      "outputs": [],
      "source": [
        "# a game is represented by the following bitmap\n",
        "\n",
        "# .  .  .  .  .  .  .\n",
        "# 5 12 19 26 33 40 47\n",
        "# 4 11 18 25 32 39 46\n",
        "# 3 10 17 24 31 38 45\n",
        "# 2  9 16 23 30 37 44\n",
        "# 1  8 15 22 29 36 43\n",
        "# 0  7 14 21 28 35 42\n",
        "#\n",
        "# The 'position' variable stores the position of the CURRENT PLAYERS pieces\n",
        "# The 'mask' variable stores the position of all pieces on the board\n",
        "\n",
        "# IMPORTANT: The position is from only the CURRENT PLAYERS perspective.\n",
        "# To get the other players we do: position XOR mask\n",
        "\n",
        "# Assumption: We assume that red plays on even moves, and black plays on odd moves\n",
        "#               To check parity, we look at the right most bit on the move count (corresponding to 2^0 = 1)\n",
        "#               eg. move&1 = 1 if move is odd, move&1 = 0 if move is even\n",
        "\n",
        "# Remark: If the player makes an illegal move, we ignore the move and go to the next players turn\n",
        "#         (It would be better to let the player redo the action) for now just ensure that our AI's\n",
        "#         do not make illegal moves..\n",
        "\n",
        "default_config = {'height' : 6, 'width' : 7}\n",
        "\n",
        "def init_game(games_shape=1, config=default_config):\n",
        "  '''initializes the game state tuple to the start of the game'''\n",
        "  # Rmk: games_shape can be a number with the amount of games you want\n",
        "  #       OR you can specify a shape tuple. eg. 10000, (1000, 10), and (10, 10, 10, 10) are all valid\n",
        "\n",
        "  position = jnp.expand_dims(jnp.zeros(games_shape, dtype = jnp.uint64), axis=-1)\n",
        "  mask = jnp.expand_dims(jnp.zeros(games_shape, dtype = jnp.uint64), axis=-1)\n",
        "  active = jnp.expand_dims(jnp.ones(games_shape, dtype = jnp.uint64), axis=-1)\n",
        "  count = 0\n",
        "\n",
        "  return (position, mask, active, count)\n",
        "\n",
        "@jax.jit\n",
        "def get_column_list(config=default_config):\n",
        "  return jnp.linspace(0, config['width'] - 1, config['width'], dtype=jnp.uint64)\n",
        "\n",
        "@jax.jit\n",
        "def get_board_mask(config=default_config):\n",
        "  '''get a bitmask with all bits on'''\n",
        "  return (1 << (config['height'] + 1) * config['width']) - 1\n",
        "\n",
        "@jax.jit\n",
        "def top_mask(col, config=default_config):\n",
        "  '''get a bitmask with a 1 at the top of given column'''\n",
        "  return (1 << (config['height'] - 1)) << (col * (config['height'] + 1))\n",
        "\n",
        "@jax.jit\n",
        "def bottom_mask(col, config=default_config):\n",
        "  '''get a bitmask with a 1 at the bottom of the given column'''\n",
        "  return 1 << col * (config['height'] + 1)\n",
        "\n",
        "@jax.jit\n",
        "def column_mask(col, config=default_config):\n",
        "  '''get a bitmask with the bits of the given column on'''\n",
        "  return ((1 << config['height']) - 1) << (col * (config['height'] + 1))\n",
        "\n",
        "@jax.jit\n",
        "def can_play(state, col, config=default_config):\n",
        "  '''check if we can play in the given column'''\n",
        "  _, mask, _, _ = state\n",
        "\n",
        "  return (mask & top_mask(col, config)) == 0\n",
        "\n",
        "@jax.jit\n",
        "def alignment(state, config=default_config):\n",
        "  '''checks if there is an alignment for the current player'''\n",
        "  position, mask, active, count = state\n",
        "\n",
        "  m = position & (position >> (config['height'] + 1))\n",
        "  horizontal = jnp.where(m & (m >> (2 * (config['height'] + 1))), 1, 0)\n",
        "\n",
        "  m = position & (position >> config['height'])\n",
        "  diag_a = jnp.where(m & (m >> (2 * config['height'])), 1, 0)\n",
        "\n",
        "  m = position & (position >> (config['height'] + 2))\n",
        "  diag_b = jnp.where(m & (m >> (2 * (config['height'] + 2))), 1, 0)\n",
        "\n",
        "  m = position & position >> 1\n",
        "  vertical = jnp.where(m & (m >> 2), 1, 0)\n",
        "  \n",
        "  alignment = horizontal | diag_a | diag_b | vertical\n",
        "  \n",
        "  return alignment\n",
        "\n",
        "@jax.jit\n",
        "def get_legal_cols(state, config=default_config):\n",
        "  legal_cols = can_play(state, get_column_list(), config)\n",
        "  return legal_cols\n",
        "\n",
        "@jax.jit\n",
        "def get_opponent_state(state):\n",
        "  '''gets the bitboard from the opponents perspective'''\n",
        "  position, mask, active, count = state\n",
        "\n",
        "  opponent_state = (position ^ mask, mask, active, count)\n",
        "  return opponent_state\n",
        "\n",
        "@jax.jit\n",
        "def update_active_games(state, config=default_config):\n",
        "  '''checks if the given game is still active and updates the active array'''\n",
        "  position, mask, active, count = state\n",
        "\n",
        "  opponent_state = get_opponent_state(state)\n",
        "  active = 1 - (alignment(opponent_state, config) | alignment(state, config) | (count >= 41))\n",
        "\n",
        "  return (position, mask, active, count)\n",
        "\n",
        "@jax.jit\n",
        "def play_move(state, col, config=default_config):\n",
        "  '''plays a move in the given column'''\n",
        "  # note: this switches the players perspective then adds the bitmask\n",
        "  #       with only an active bit at the bottom of the chosen column to\n",
        "  #       the 'mask' bitmask this shifts all the bits in that column left by 1.\n",
        "  position, mask, active, count = state\n",
        "\n",
        "  position = position ^ mask\n",
        "  legal = can_play(state, col, config) & active\n",
        "\n",
        "  new_mask = mask | (mask + bottom_mask(col.astype(jnp.uint64), config))\n",
        "  mask = jnp.where(legal, new_mask, mask)\n",
        "\n",
        "  state = (position, mask, active, count)\n",
        "  _, _, active, _ = update_active_games(state, config)\n",
        "\n",
        "  count = count + 1\n",
        "\n",
        "  return (position, mask, active, count)\n",
        "\n",
        "@jax.jit\n",
        "def get_winners(state, config=default_config):\n",
        "  '''gets the winners of the current board'''\n",
        "  # -1 if red wins\n",
        "  #  1 if black wins\n",
        "  # if there are two winners we get 0 (covers invalid game)\n",
        "  # if there are no winners we get 0 (covers tie/game not over)\n",
        "  position, mask, active, count = state\n",
        "  opponent_state = get_opponent_state(state)\n",
        "\n",
        "  current_alignments = alignment(state)\n",
        "  opponent_alignments = alignment(opponent_state) * (-1)\n",
        "\n",
        "  whos_turn = count & 1\n",
        "  win_value = 2 * whos_turn.astype(jnp.int32) - 1 # -1 if red win, 1 is black win\n",
        "\n",
        "  # score will be -1 if red has alignment, 1 if black has alignment, 0 if tied, 0 if both have alignments (invalid game)\n",
        "  total_score = current_alignments * win_value + opponent_alignments * win_value\n",
        "\n",
        "  return total_score\n",
        "\n",
        "@jax.jit\n",
        "def get_winning_columns(state, config=default_config):\n",
        "  '''gets the first columns that would make the current player win immediately'''\n",
        "  # -1 if there are no winning columns\n",
        "\n",
        "  col_masks = column_mask(get_column_list())\n",
        "  win_mask = get_winning_bitmask(state)\n",
        "  winning_cols = jnp.where(col_masks & win_mask != 0, 1, 0)\n",
        "\n",
        "  return winning_cols\n",
        "\n",
        "@jax.jit\n",
        "def get_threatening_columns(state, config=default_config):\n",
        "  '''gets the first column that would make the current player win immediately'''\n",
        "  opponent_state = get_opponent_state(state)\n",
        "  return get_winning_columns(opponent_state)\n",
        "\n",
        "@jax.jit\n",
        "def get_winning_bitmask(state, config=default_config):\n",
        "  '''gets a bitmask with 1s in positions that would immediately end the game'''\n",
        "  pos, mask, _, _ = state\n",
        "\n",
        "  h = config['height']\n",
        "\n",
        "  # vertical\n",
        "  r = (pos << 1) & (pos << 2) & (pos << 3)\n",
        "\n",
        "  # horizontal\n",
        "  p = (pos << (h + 1)) & (pos << 2 * (h+1))\n",
        "  r = r | (p & (pos << 3 * (h + 1)))\n",
        "  r = r | (p & (pos >> (h + 1)))\n",
        "  p = p >> (3 * (h + 1))\n",
        "  r = r | (p & (pos << (h + 1)))\n",
        "  r = r | (p & (pos >> 3 * (h + 1)))\n",
        "\n",
        "  # diag 1\n",
        "  p = (pos << h) & (pos << 2 * h)\n",
        "  r = r | (p & (pos << 3 * h))\n",
        "  r = r | (p & (pos >> h))\n",
        "  p = p >> (3 * h)\n",
        "  r = r | (p & (pos << h))\n",
        "  r = r | (p & (pos >> 3 * h))\n",
        "\n",
        "  # diag 2\n",
        "  p = (pos << (h + 2)) & (pos << 2 * (h + 2))\n",
        "  r = r | (p & (pos << 3 * (h + 2)))\n",
        "  r = r | (p & (pos >> (h + 2)))\n",
        "  p = p >> (3 * (h + 2))\n",
        "  r = r | (p & (pos << (h + 2)))\n",
        "  r = r | (p & (pos >> 3 * (h + 2)))\n",
        "\n",
        "  return r & ((1 << get_board_mask(config)) - 1 ^ mask)\n",
        "\n",
        "@jax.jit\n",
        "def expand_to_next_states(state, config=default_config):\n",
        "  '''expands the bitboard to all possible next states'''\n",
        "  \n",
        "  position, mask, active, count = state\n",
        "\n",
        "  p_position = jnp.repeat(jnp.expand_dims(position, -2), 7, axis = -2)\n",
        "  p_mask = jnp.repeat(jnp.expand_dims(mask, -2), 7, axis = -2)\n",
        "  p_active = jnp.repeat(jnp.expand_dims(active, -2), 7, axis = -2)\n",
        "\n",
        "  p_state = (p_position, p_mask, p_active, count)\n",
        "\n",
        "  action = jnp.linspace(0, config['width'] - 1, config['width'], dtype=jnp.uint64)\n",
        "  p_state = play_move(p_state, action[:, None], config)\n",
        "\n",
        "  return p_state\n",
        "\n",
        "@functools.partial(jax.jit, static_argnums=1)\n",
        "def repeat_game(state, repeats, config=default_config):\n",
        "  '''adds axis and repeats the game_state along the axis repeat times'''\n",
        "  # output shape: (repeats, pre-shape, 1)\n",
        "  position, mask, active, count = state\n",
        "\n",
        "  p_position = jnp.repeat(jnp.expand_dims(position, 0), repeats, axis=0)\n",
        "  p_mask = jnp.repeat(jnp.expand_dims(mask, 0), repeats, axis=0)\n",
        "  p_active = jnp.repeat(jnp.expand_dims(active, 0), repeats, axis=0)\n",
        "\n",
        "  p_state = (p_position, p_mask, p_active, count)\n",
        "\n",
        "  return p_state\n",
        "\n",
        "def to_array(game_state, game_num, config=default_config):\n",
        "    position, mask, active, count = game_state\n",
        "\n",
        "    board_size = (config['height']+1) * config['width']\n",
        "    pieces = np.reshape(2 << (np.array(np.linspace(0, board_size - 1, board_size), dtype=np.uint64) - 1), (config['height'] + 1, config['width'])).T\n",
        "    pieces[0][0] = 1\n",
        "    pieces = np.flip(pieces, 0)\n",
        "\n",
        "    current_player = np.where(pieces & position[game_num] != 0, 1 + (count&1), 0)\n",
        "    other_player = np.where(pieces & (position ^ mask)[game_num] != 0, 2 - (count&1), 0)\n",
        "    \n",
        "    return current_player + other_player\n",
        "\n",
        "def draw_game(game_state, game_num = 0, player_color = ['red','black'], config=default_config):\n",
        "  '''Use matplotlib to draw the board in text given the bitboards for player 1 and player 2'''\n",
        "  \n",
        "  position, mask, active, count = game_state\n",
        "\n",
        "  fig, ax = plt.subplots() \n",
        "  plt.xlim(-0.5, config['width'] - 0.5)\n",
        "  plt.ylim(config['height']+0.5, 0.5)\n",
        "  ax.patch.set_facecolor('lightgrey')\n",
        "\n",
        "  game_array = to_array(game_state, game_num)\n",
        "\n",
        "  for y in range(1, config['height']+1):\n",
        "    for x in range(config['width']):\n",
        "      outline = plt.Circle((x,y), 0.45, color='white')\n",
        "      ax.add_patch(outline)\n",
        "\n",
        "      if game_array[y, x] > 0:\n",
        "        piece = plt.Circle((x, y), 0.45, color=player_color[game_array[y, x] - 1])\n",
        "        ax.add_patch(piece)\n",
        "        \n",
        "\n",
        "  plt.show()"
      ]
    },
    {
      "cell_type": "markdown",
      "metadata": {
        "id": "65A-a4Qd1pmm"
      },
      "source": [
        "# Bandits"
      ]
    },
    {
      "cell_type": "code",
      "execution_count": null,
      "metadata": {
        "id": "m-Hh31ya1oC2"
      },
      "outputs": [],
      "source": [
        "class Bandit():\n",
        "  @functools.partial(jax.jit, static_argnums=0)\n",
        "  def __init__(self, time, batch_size=10):\n",
        "    self.time = time\n",
        "    self.batch_size = batch_size\n",
        "\n",
        "  @functools.partial(jax.jit, static_argnums=0)\n",
        "  def choice(self, board, key):\n",
        "    pass\n",
        "\n",
        "class EpsilonGreedyBandit(Bandit):\n",
        "  @functools.partial(jax.jit, static_argnums=0)\n",
        "  def __init__(self, time, batch_size=10):\n",
        "    super().__init__(time, batch_size)\n",
        "\n",
        "  @functools.partial(jax.jit, static_argnums=0)\n",
        "  def choice(self, board, key):\n",
        "    legal_moves = board.get_legal_moves()\n",
        "    print(legal_moves)\n",
        "\n",
        "    for t in jnp.arange(self.time):\n",
        "      print(f'time : {t} ')\n",
        "\n",
        "class UCBBandit(Bandit):\n",
        "  @functools.partial(jax.jit, static_argnums=0)\n",
        "  def __init__(self, time, batch_size=10):\n",
        "    super().__init__(time, batch_size)\n",
        "\n",
        "  @functools.partial(jax.jit, static_argnums=0)\n",
        "  def choice(self, board, key):\n",
        "    legal_moves = board.get_legal_moves()\n",
        "\n",
        "    for t in jnp.arange(self.time):\n",
        "      print(f'time : {t} ')"
      ]
    },
    {
      "cell_type": "markdown",
      "metadata": {
        "id": "vLLkheaN3v9e"
      },
      "source": [
        "# Agents"
      ]
    },
    {
      "cell_type": "code",
      "execution_count": 3,
      "metadata": {
        "id": "JJ9VZp3ebSws"
      },
      "outputs": [],
      "source": [
        "class Agent():\n",
        "  def __init__(self, config=default_config):\n",
        "    self.config = config\n",
        "\n",
        "  def choose(self, state, key=None):\n",
        "    pass\n",
        "\n",
        "class RandomAgent(Agent):\n",
        "  def __init__(self, config=default_config):\n",
        "    super().__init__(config=config)\n",
        "\n",
        "  def choose(self, state, key=None):\n",
        "    if key == None:\n",
        "      key = jax.random.PRNGKey(int(time.time()))\n",
        "\n",
        "    scores = jax.random.uniform(key, shape=(*state[0].shape[:-1], self.config['width']))\n",
        "    legal_cols = get_legal_cols(state)\n",
        "    legal_scores = jnp.where(legal_cols, scores, jnp.nan)\n",
        "\n",
        "    return jnp.nanargmax(legal_scores, axis=-1)[..., None]\n",
        "\n",
        "class RandomPlusAgent(Agent):\n",
        "  def __init__(self, config=default_config):\n",
        "    super().__init__(config=config)\n",
        "\n",
        "  def choose(self, state, key=None):\n",
        "    if key == None:\n",
        "      key = jax.random.PRNGKey(int(time.time()))\n",
        "\n",
        "    random_scores = jax.random.uniform(key, shape=(*state[0].shape[:-1], self.config['width']))\n",
        "    threats = get_threatening_columns(state, self.config)\n",
        "    wins = get_winning_columns(state, self.config)\n",
        "\n",
        "    adjusted_scores = 100*wins + 10*threats + random_scores\n",
        "    legal_scores = jnp.where(get_legal_cols(state), adjusted_scores, jnp.nan)\n",
        "\n",
        "    return jnp.nanargmax(legal_scores, axis=-1)[..., None]\n",
        "\n",
        "class RolloutAgent(Agent):\n",
        "  def __init__(self, config=default_config, n_rollouts=100):\n",
        "    super().__init__()\n",
        "    self.n_rollouts = n_rollouts\n",
        "    self.agents = [RandomAgent(config), RandomAgent(config)]\n",
        "\n",
        "  def choose(self, state, key=None):\n",
        "    if key == None:\n",
        "      key = jax.random.PRNGKey(int(time.time()))\n",
        "\n",
        "    # expand our game state over all possible states\n",
        "    n_states = expand_to_next_states(state)\n",
        "\n",
        "    # repeat these states for n_rollouts\n",
        "    np_states = repeat_game(n_states, self.n_rollouts)\n",
        "\n",
        "    # run all games to the end\n",
        "    sim = Simulator(np_states, self.agents, key)\n",
        "    results = sim.run()\n",
        "    \n",
        "    # calculate the scores\n",
        "    mean_scores = jnp.squeeze(jnp.mean(results, axis=0))\n",
        "    legal_scores = jnp.where(get_legal_cols(state), mean_scores, jnp.nan)\n",
        "\n",
        "    return np.nanargmax(legal_scores * (2*(state[3]&1) - 1), axis=-1)[..., None]\n",
        "\n",
        "class UCBRolloutsAgent(Agent):\n",
        "  def __init__(self, time=20, rollouts_per_t=10, confidence_level=1, config=default_config):\n",
        "    super().__init__()\n",
        "\n",
        "    self.time = time\n",
        "    self.rollouts_per_t = rollouts_per_t\n",
        "    self.confidence_level = confidence_level\n",
        "    self.config = config\n",
        "\n",
        "  def calc_ucb(self, initial_values, action_count, t):\n",
        "    return initial_values + self.confidence_level * jnp.sqrt(jnp.log(t) / action_count)\n",
        "\n",
        "  def do_batch_rollout(self, state, key=None):\n",
        "    position, mask, active, move = state\n",
        "\n",
        "    if key == None:\n",
        "      key = jax.random.PRNGKey(int(time.time()))\n",
        "\n",
        "    p_state = repeat_game(state, self.rollouts_per_t)\n",
        "    agents = [RandomAgent(self.config), RandomAgent(self.config)]\n",
        "\n",
        "    sim = Simulator(p_state, agents, key)\n",
        "    return sim.run()\n",
        "\n",
        "  def choose(self, state, key=None):\n",
        "    position, mask, active, move = state\n",
        "\n",
        "    n_actions = self.config['width']\n",
        "    win_counts = jnp.ones((*state[0].shape[:-1], n_actions, 1), dtype=jnp.uint64)\n",
        "    # (pre-shape, 7)\n",
        "    action_counts = jnp.ones_like(win_counts, dtype=jnp.uint64)\n",
        "    # (pre-shape, 7)\n",
        "    legal_actions = get_legal_cols(state)[..., None]\n",
        "\n",
        "    if key == None:\n",
        "      key = jax.random.PRNGKey(int(time.time()))\n",
        "\n",
        "    key, subkey = jax.random.split(key)\n",
        "\n",
        "    agent = RolloutAgent(self.config, n_rollouts=self.rollouts_per_t)\n",
        "    actions = agent.choose(state, subkey)\n",
        "\n",
        "    player = (move)&1\n",
        "    for t in jnp.arange(self.time):\n",
        "      key, subkey = jax.random.split(key)\n",
        "\n",
        "      n_states = play_move(state, actions.astype(jnp.uint64))\n",
        "      results = self.do_batch_rollout(n_states, subkey)\n",
        "      one_hot_actions = jnp.squeeze(jax.nn.one_hot(actions, num_classes = n_actions))\n",
        "      win_counts = win_counts + (one_hot_actions * jnp.count_nonzero(results == 2*player - 1, axis=0))[..., None]\n",
        "      action_counts = action_counts + self.rollouts_per_t * one_hot_actions[..., None]\n",
        "\n",
        "      ucb = self.calc_ucb(win_counts/action_counts,action_counts, t*self.rollouts_per_t)\n",
        "      legal_ucb = jnp.where(legal_actions, ucb, jnp.nan)\n",
        "      actions = jnp.nanargmax(legal_ucb, axis=-2)\n",
        "\n",
        "    ucb = self.calc_ucb(win_counts/action_counts,action_counts, (t+1)*self.rollouts_per_t)\n",
        "    legal_ucb = jnp.where(legal_actions, ucb, jnp.nan)\n",
        "\n",
        "    return jnp.nanargmax(legal_ucb, axis=-2)\n",
        "\n",
        "class PlayerAgent(Agent):\n",
        "  #NOTE: this only works when game_shape=1\n",
        "  def __init__(self, config=default_config):\n",
        "    super().__init__()\n",
        "\n",
        "    self.config = config\n",
        "\n",
        "  def choose(self, state, key=None):\n",
        "    draw_game(state)\n",
        "    print(\"Which column would you like to play in\")\n",
        "    raw_input = input()\n",
        "    choice = np.clip(int(raw_input), 0, self.config['width'])\n",
        "    return choice"
      ]
    },
    {
      "cell_type": "markdown",
      "metadata": {
        "id": "9pi3iTTC1tXe"
      },
      "source": [
        "# Simulator"
      ]
    },
    {
      "cell_type": "code",
      "execution_count": 4,
      "metadata": {
        "id": "4aIWBX_uabi6"
      },
      "outputs": [],
      "source": [
        "class Simulator():\n",
        "  '''simulates game to end from a state with given AIs'''\n",
        "\n",
        "  def __init__(self, game_state, agents, key=None, config=default_config):\n",
        "    self.agents = agents\n",
        "    self.game_state = game_state\n",
        "    self.config = config\n",
        "\n",
        "    if key == None:\n",
        "      self.key = jax.random.PRNGKey(int(time.time()))\n",
        "    else:\n",
        "      self.key = key\n",
        "\n",
        "  def step(self, verbose=False):\n",
        "    self.key, subkey = jax.random.split(self.key)\n",
        "    choices = self.agents[self.game_state[3]&1].choose(self.game_state, subkey)\n",
        "\n",
        "    self.game_state = play_move(self.game_state, choices.astype(jnp.uint64))\n",
        "\n",
        "  def run(self, verbose=False):\n",
        "    # games should only take 42 moves if all are legal.\n",
        "    for i in jnp.arange(42):\n",
        "      self.key, subkey = jax.random.split(self.key)\n",
        "\n",
        "      if verbose:\n",
        "        print(f'move # {i+1}')\n",
        "\n",
        "      choices = self.agents[i&1].choose(self.game_state, subkey)\n",
        "\n",
        "      if verbose:\n",
        "        print(jnp.squeeze(choices))\n",
        "\n",
        "      self.game_state = play_move(self.game_state, choices.astype(jnp.uint64))\n",
        "\n",
        "    return get_winners(self.game_state, self.config)"
      ]
    },
    {
      "cell_type": "code",
      "execution_count": null,
      "metadata": {
        "id": "E6E3mUuODJ7B"
      },
      "outputs": [],
      "source": [
        "#sim = Simulator(init_game(1), [PlayerAgent(), UCBRolloutsAgent(time=20, rollouts_per_t=100, confidence_level=0.6)])\n",
        "sim = Simulator(init_game(100), [RandomPlusAgent(), RolloutAgent(n_rollouts=1000)])\n",
        "jnp.mean(sim.run())"
      ]
    },
    {
      "cell_type": "code",
      "execution_count": null,
      "metadata": {
        "colab": {
          "background_save": true
        },
        "id": "wtyXcqcnasPR",
        "outputId": "fad48923-d247-41ea-996f-cbc2e63ecdca"
      },
      "outputs": [
        {
          "name": "stdout",
          "output_type": "stream",
          "text": [
            "CPU times: user 1min 53s, sys: 27.3 s, total: 2min 20s\n",
            "Wall time: 1min 45s\n"
          ]
        },
        {
          "data": {
            "text/plain": [
              "DeviceArray(-0.96, dtype=float32)"
            ]
          },
          "execution_count": 674,
          "metadata": {},
          "output_type": "execute_result"
        }
      ],
      "source": [
        "sim = Simulator(init_game(50), [UCBRolloutsAgent(time=50, rollouts_per_t=5, confidence_level=0.4), RandomPlusAgent()])\n",
        "%time jnp.mean(sim.run())"
      ]
    },
    {
      "cell_type": "code",
      "execution_count": null,
      "metadata": {
        "colab": {
          "base_uri": "https://localhost:8080/"
        },
        "id": "MyY0F3qBxjDD",
        "outputId": "6cfd14bd-5f70-4707-c176-d95e36ca7f4a"
      },
      "outputs": [
        {
          "name": "stdout",
          "output_type": "stream",
          "text": [
            "CPU times: user 3.35 s, sys: 619 ms, total: 3.97 s\n",
            "Wall time: 3.96 s\n"
          ]
        },
        {
          "data": {
            "text/plain": [
              "DeviceArray(-1., dtype=float32)"
            ]
          },
          "execution_count": 662,
          "metadata": {},
          "output_type": "execute_result"
        }
      ],
      "source": [
        "sim = Simulator(init_game(50), [RolloutAgent(n_rollouts=200), RandomPlusAgent()])\n",
        "%time jnp.mean(sim.run())"
      ]
    },
    {
      "cell_type": "code",
      "execution_count": null,
      "metadata": {
        "colab": {
          "base_uri": "https://localhost:8080/",
          "height": 265
        },
        "id": "_wbMoDn0sOf5",
        "outputId": "895603e2-9a29-498e-f446-0347cd6c0ed1"
      },
      "outputs": [
        {
          "data": {
            "image/png": "[encoded data removed]",
            "text/plain": [
              "<Figure size 432x288 with 1 Axes>"
            ]
          },
          "metadata": {},
          "output_type": "display_data"
        }
      ],
      "source": [
        "state = sim.game_state\n",
        "draw_game(state, 998)"
      ]
    },
    {
      "cell_type": "code",
      "execution_count": null,
      "metadata": {
        "colab": {
          "base_uri": "https://localhost:8080/"
        },
        "id": "ba0wZkKiT0xK",
        "outputId": "134a296c-3e58-4625-d21c-a37cb7b87b83"
      },
      "outputs": [
        {
          "name": "stdout",
          "output_type": "stream",
          "text": [
            "CPU times: user 2.99 s, sys: 41.8 ms, total: 3.03 s\n",
            "Wall time: 2.98 s\n"
          ]
        },
        {
          "data": {
            "text/plain": [
              "DeviceArray(-0.114560105, dtype=float32)"
            ]
          },
          "execution_count": 116,
          "metadata": {},
          "output_type": "execute_result"
        }
      ],
      "source": [
        "sim = Simulator(init_game(10_000_000), [RandomAgent(), RandomAgent()])\n",
        "%time jnp.mean(sim.run())"
      ]
    },
    {
      "cell_type": "code",
      "execution_count": null,
      "metadata": {
        "colab": {
          "base_uri": "https://localhost:8080/",
          "height": 265
        },
        "id": "JzACoLBMsnyK",
        "outputId": "c631dd89-b5f8-4f0a-bcbc-5a47c8860782"
      },
      "outputs": [
        {
          "data": {
            "image/png": "[encoded data removed]",
            "text/plain": [
              "<Figure size 432x288 with 1 Axes>"
            ]
          },
          "metadata": {},
          "output_type": "display_data"
        }
      ],
      "source": [
        "state = sim.game_state\n",
        "draw_game(state, 2)"
      ]
    },
    {
      "cell_type": "code",
      "execution_count": null,
      "metadata": {
        "colab": {
          "base_uri": "https://localhost:8080/",
          "height": 265
        },
        "id": "YNxRXzlmtClA",
        "outputId": "6d04e255-3ab2-40a6-c9b4-2ca994e53200"
      },
      "outputs": [
        {
          "data": {
            "image/png": "[encoded data removed]",
            "text/plain": [
              "<Figure size 432x288 with 1 Axes>"
            ]
          },
          "metadata": {},
          "output_type": "display_data"
        }
      ],
      "source": [
        "state = sim.game_state\n",
        "draw_game(state, 1)"
      ]
    }
  ],
  "metadata": {
    "accelerator": "GPU",
    "colab": {
      "collapsed_sections": [],
      "provenance": [],
      "authorship_tag": "ABX9TyOqqAJ75JwLM+fVCJi/4iL4",
      "include_colab_link": true
    },
    "kernelspec": {
      "display_name": "Python 3",
      "name": "python3"
    },
    "language_info": {
      "name": "python"
    }
  },
  "nbformat": 4,
  "nbformat_minor": 0
}