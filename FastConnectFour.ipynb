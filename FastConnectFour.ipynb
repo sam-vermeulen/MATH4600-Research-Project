{
  "nbformat": 4,
  "nbformat_minor": 0,
  "metadata": {
    "colab": {
      "provenance": [],
      "collapsed_sections": [],
      "authorship_tag": "ABX9TyNTlQZaQNP9BbcxXiR2Os69",
      "include_colab_link": true
    },
    "kernelspec": {
      "name": "python3",
      "display_name": "Python 3"
    },
    "language_info": {
      "name": "python"
    },
    "accelerator": "GPU"
  },
  "cells": [
    {
      "cell_type": "markdown",
      "metadata": {
        "id": "view-in-github",
        "colab_type": "text"
      },
      "source": [
        "<a href=\"https://colab.research.google.com/github/sam-vermeulen/MATH4600-Research-Project/blob/main/FastConnectFour.ipynb\" target=\"_parent\"><img src=\"https://colab.research.google.com/assets/colab-badge.svg\" alt=\"Open In Colab\"/></a>"
      ]
    },
    {
      "cell_type": "code",
      "execution_count": 1,
      "metadata": {
        "id": "PCE6arcwz9C7"
      },
      "outputs": [],
      "source": [
        "import jax.numpy as jnp\n",
        "import jax\n",
        "\n",
        "import numpy as np\n",
        "import functools\n",
        "\n",
        "import time\n",
        "\n",
        "import matplotlib.pyplot as plt\n",
        "\n",
        "jnp.set_printoptions(precision=100, linewidth=100000)\n",
        "jax.config.update(\"jax_enable_x64\", True)"
      ]
    },
    {
      "cell_type": "markdown",
      "source": [
        "# Connect Four\n",
        "\n",
        "The code for this environment is an adaptation of the implementations by Pascal Pon (http://blog.gamesolver.org/) and John Tromp (https://tromp.github.io/c4/c4.html)"
      ],
      "metadata": {
        "id": "wStcVuHp1qt2"
      }
    },
    {
      "cell_type": "code",
      "source": [
        "# a game is represented by the following bitmap\n",
        "\n",
        "# .  .  .  .  .  .  .\n",
        "# 5 12 19 26 33 40 47\n",
        "# 4 11 18 25 32 39 46\n",
        "# 3 10 17 24 31 38 45\n",
        "# 2  9 16 23 30 37 44\n",
        "# 1  8 15 22 29 36 43\n",
        "# 0  7 14 21 28 35 42\n",
        "#\n",
        "# The 'position' variable stores the position of the CURRENT PLAYERS pieces\n",
        "# The 'mask' variable stores the position of all pieces on the board\n",
        "\n",
        "# IMPORTANT: The position is from only the CURRENT PLAYERS perspective.\n",
        "# To get the other players we do: position XOR mask\n",
        "\n",
        "# Assumption: We assume that red plays on even moves, and black plays on odd moves\n",
        "#               To check parity, we look at the right most bit on the move count (corresponding to 2^0 = 1)\n",
        "#               eg. move&1 = 1 if move is odd, move&1 = 0 if move is even\n",
        "\n",
        "# Remark: If we player makes an illegal move, we ignore the move and go to the next players turn\n",
        "#         (It would be better to let the player redo the action) for now just ensure that our AI's\n",
        "#         do not make illegal moves..\n",
        "\n",
        "default_config = {'height' : 6, 'width' : 7}\n",
        "\n",
        "def init_game(n_games=1, config=default_config):\n",
        "  position = jnp.zeros((n_games, 1), dtype = jnp.uint64)\n",
        "  mask = jnp.zeros((n_games, 1), dtype = jnp.uint64)\n",
        "  active = jnp.ones((n_games, 1), dtype = jnp.uint64)\n",
        "  count = 0\n",
        "\n",
        "  return (position, mask, active, count)\n",
        "\n",
        "@jax.jit\n",
        "def get_column_list(config=default_config):\n",
        "  return jnp.linspace(0, config['width'] - 1, config['width'], dtype=jnp.uint64)\n",
        "\n",
        "@jax.jit\n",
        "def get_board_mask(config=default_config):\n",
        "  '''get a bitmask with all bits on'''\n",
        "  return (1 << (config['height'] + 1) * config['width']) - 1\n",
        "\n",
        "@jax.jit\n",
        "def top_mask(col, config=default_config):\n",
        "  '''get a bitmask with a 1 at the top of given column'''\n",
        "  return 1 << ((config['height'] - 1) << (col * (config['height'] + 1)))\n",
        "\n",
        "@jax.jit\n",
        "def bottom_mask(col, config=default_config):\n",
        "  '''get a bitmask with a 1 at the bottom of the given column'''\n",
        "  return 1 << col * (config['height'] + 1)\n",
        "\n",
        "@jax.jit\n",
        "def column_mask(col, config=default_config):\n",
        "  '''get a bitmask with the bits of the given column on'''\n",
        "  return ((1 << config['height']) - 1) << (col * (config['height'] + 1))\n",
        "\n",
        "@jax.jit\n",
        "def can_play(state, col, config=default_config):\n",
        "  '''check if we can play in the given column'''\n",
        "  _, mask, _, _ = state\n",
        "\n",
        "  return (mask & top_mask(col, config)) == 0\n",
        "\n",
        "@jax.jit\n",
        "def alignment(state, config=default_config):\n",
        "  '''checks if there is an alignment for the current player'''\n",
        "  position, mask, active, count = state\n",
        "\n",
        "  m = position & (position >> (config['height'] + 1))\n",
        "  horizontal = jnp.where(m & (m >> (2 * (config['height'] + 1))), 1, 0)\n",
        "\n",
        "  m = position & (position >> config['height'])\n",
        "  diag_a = jnp.where(m & (m >> (2 * config['height'])), 1, 0)\n",
        "\n",
        "  m = position & (position >> (config['height'] + 2))\n",
        "  diag_b = jnp.where(m & (m >> (2 * (config['height'] + 2))), 1, 0)\n",
        "\n",
        "  m = position & position >> 1\n",
        "  vertical = jnp.where(m & (m >> 2), 1, 0)\n",
        "  \n",
        "  alignment = horizontal | diag_a | diag_b | vertical\n",
        "  \n",
        "  return alignment\n",
        "\n",
        "@jax.jit\n",
        "def get_legal_cols(state, config=default_config):\n",
        "  legal_cols = can_play(state, get_column_list(), config)\n",
        "  return legal_cols\n",
        "\n",
        "@jax.jit\n",
        "def get_opponent_state(state):\n",
        "  '''gets the bitboard from the opponents perspective'''\n",
        "  position, mask, active, count = state\n",
        "\n",
        "  opponent_state = (position ^ mask, mask, active, count)\n",
        "  return opponent_state\n",
        "\n",
        "@jax.jit\n",
        "def update_active_games(state, config=default_config):\n",
        "  '''checks if the given game is still active and updates the active array'''\n",
        "  position, mask, active, count = state\n",
        "\n",
        "  opponent_state = get_opponent_state(state)\n",
        "  active = 1 - (alignment(opponent_state, config) | alignment(state, config) | (count >= 41))\n",
        "\n",
        "  return (position, mask, active, count)\n",
        "\n",
        "@jax.jit\n",
        "def play_move(state, col, config=default_config):\n",
        "  '''plays a move in the given column'''\n",
        "  # note: this switches the players perspective then adds the bitmask\n",
        "  #       with only an active bit at the bottom of the chosen column to\n",
        "  #       the 'mask' bitmask this shifts all the bits in that column left by 1.\n",
        "  position, mask, active, count = state\n",
        "\n",
        "  position = position ^ mask\n",
        "  legal = can_play(state, col, config) & active\n",
        "\n",
        "  new_mask = mask | (mask + bottom_mask(col.astype(jnp.uint64), config))\n",
        "  mask = jnp.where(legal, new_mask, mask)\n",
        "\n",
        "  state = (position, mask, active, count)\n",
        "  _, _, active, _ = update_active_games(state, config)\n",
        "\n",
        "  count = count + 1\n",
        "\n",
        "  return (position, mask, active, count)\n",
        "\n",
        "@jax.jit\n",
        "def get_winners(state, config=default_config):\n",
        "  '''gets the winners of the current board'''\n",
        "  # -1 if red wins\n",
        "  #  1 if black wins\n",
        "  # if there are two winners we get 0 (covers invalid game)\n",
        "  # if there are no winners we get 0 (covers tie/game not over)\n",
        "  position, mask, active, count = state\n",
        "  opponent_state = get_opponent_state(state)\n",
        "\n",
        "  current_alignments = alignment(state)\n",
        "  opponent_alignments = alignment(opponent_state) * (-1)\n",
        "\n",
        "  whos_turn = count & 1\n",
        "  win_value = 2 * whos_turn.astype(jnp.int32) - 1 # -1 if red win, 1 is black win\n",
        "\n",
        "  # score will be -1 if red has alignment, 1 if black has alignment, 0 if tied, 0 if both have alignments (invalid game)\n",
        "  total_score = current_alignments * win_value + opponent_alignments * win_value\n",
        "\n",
        "  return total_score\n",
        "\n",
        "@jax.jit\n",
        "def get_winning_columns(state, config=default_config):\n",
        "  '''gets the first columns that would make the current player win immediately'''\n",
        "  # -1 if there are no winning columns\n",
        "\n",
        "  col_masks = column_mask(get_column_list())\n",
        "  win_mask = get_winning_bitmask(state)\n",
        "  winning_cols = jnp.where(col_masks & win_mask != 0, 1, 0)\n",
        "\n",
        "  return winning_cols\n",
        "\n",
        "@jax.jit\n",
        "def get_threatening_columns(state, config=default_config):\n",
        "  '''gets the first column that would make the current player win immediately'''\n",
        "  opponent_state = get_opponent_state(state)\n",
        "  return get_winning_columns(opponent_state)\n",
        "\n",
        "@jax.jit\n",
        "def get_winning_bitmask(state, config=default_config):\n",
        "  '''gets a bitmask with 1s in positions that would immediately end the game'''\n",
        "  pos, mask, _, _ = state\n",
        "\n",
        "  h = config['height']\n",
        "\n",
        "  # vertical\n",
        "  r = (pos << 1) & (pos << 2) & (pos << 3)\n",
        "\n",
        "  # horizontal\n",
        "  p = (pos << (h + 1)) & (pos << 2 * (h+1))\n",
        "  r = r | (p & (pos << 3 * (h + 1)))\n",
        "  r = r | (p & (pos >> (h + 1)))\n",
        "  p = p >> (3 * (h + 1))\n",
        "  r = r | (p & (pos << (h + 1)))\n",
        "  r = r | (p & (pos >> 3 * (h + 1)))\n",
        "\n",
        "  # diag 1\n",
        "  p = (pos << h) & (pos << 2 * h)\n",
        "  r = r | (p & (pos << 3 * h))\n",
        "  r = r | (p & (pos >> h))\n",
        "  p = p >> (3 * h)\n",
        "  r = r | (p & (pos << h))\n",
        "  r = r | (p & (pos >> 3 * h))\n",
        "\n",
        "  # diag 2\n",
        "  p = (pos << (h + 2)) & (pos << 2 * (h + 2))\n",
        "  r = r | (p & (pos << 3 * (h + 2)))\n",
        "  r = r | (p & (pos >> (h + 2)))\n",
        "  p = p >> (3 * (h + 2))\n",
        "  r = r | (p & (pos << (h + 2)))\n",
        "  r = r | (p & (pos >> 3 * (h + 2)))\n",
        "\n",
        "  return r & ((1 << get_board_mask(config)) - 1 ^ mask)\n",
        "\n",
        "@jax.jit\n",
        "def expand_next_states(state, config=default_config):\n",
        "  '''expands the bitboard to all possible next states'''\n",
        "  \n",
        "  position, mask, active, count = state\n",
        "\n",
        "  p_position = jnp.repeat(jnp.expand_dims(position, 1), 7, axis = 1)\n",
        "  p_mask = jnp.repeat(jnp.expand_dims(mask, 1), 7, axis = 1)\n",
        "  p_active = jnp.repeat(jnp.expand_dims(active, 1), 7, axis = 1)\n",
        "\n",
        "  p_state = (p_position, p_mask, p_active, count)\n",
        "\n",
        "  action = jnp.linspace(0, config['width'] - 1, config['width'], dtype=jnp.uint64)\n",
        "  p_state = play_move(p_state, action[:, None], config)\n",
        "\n",
        "  return p_state\n",
        "\n",
        "@functools.partial(jax.jit, static_argnums=1)\n",
        "def repeat_game(state, repeats, config=default_config):\n",
        "  '''adds axis and repeats the game_state along the axis repeat times'''\n",
        "  # output shape: (repeats, pre-shape, 1)\n",
        "  position, mask, active, count = state\n",
        "\n",
        "  p_position = jnp.repeat(jnp.expand_dims(position, 0), repeats, axis=0)\n",
        "  p_mask = jnp.repeat(jnp.expand_dims(mask, 0), repeats, axis=0)\n",
        "  p_active = jnp.repeat(jnp.expand_dims(active, 0), repeats, axis=0)\n",
        "\n",
        "  p_state = (p_position, p_mask, p_active, count)\n",
        "\n",
        "  return p_state"
      ],
      "metadata": {
        "id": "lByJjns20Cdw"
      },
      "execution_count": 2,
      "outputs": []
    },
    {
      "cell_type": "markdown",
      "source": [
        "# Bandits"
      ],
      "metadata": {
        "id": "65A-a4Qd1pmm"
      }
    },
    {
      "cell_type": "code",
      "source": [
        "class Bandit():\n",
        "  @functools.partial(jax.jit, static_argnums=0)\n",
        "  def __init__(self, time, batch_size=10):\n",
        "    self.time = time\n",
        "    self.batch_size = batch_size\n",
        "\n",
        "  @functools.partial(jax.jit, static_argnums=0)\n",
        "  def choice(self, board, key):\n",
        "    pass\n",
        "\n",
        "class EpsilonGreedyBandit(Bandit):\n",
        "  @functools.partial(jax.jit, static_argnums=0)\n",
        "  def __init__(self, time, batch_size=10):\n",
        "    super().__init__(time, batch_size)\n",
        "\n",
        "  @functools.partial(jax.jit, static_argnums=0)\n",
        "  def choice(self, board, key):\n",
        "    legal_moves = board.get_legal_moves()\n",
        "    print(legal_moves)\n",
        "\n",
        "    for t in jnp.arange(self.time):\n",
        "      print(f'time : {t} ')\n",
        "\n",
        "class UCBBandit(Bandit):\n",
        "  @functools.partial(jax.jit, static_argnums=0)\n",
        "  def __init__(self, time, batch_size=10):\n",
        "    super().__init__(time, batch_size)\n",
        "\n",
        "  @functools.partial(jax.jit, static_argnums=0)\n",
        "  def choice(self, board, key):\n",
        "    legal_moves = board.get_legal_moves()\n",
        "\n",
        "    for t in jnp.arange(self.time):\n",
        "      print(f'time : {t} ')"
      ],
      "metadata": {
        "id": "m-Hh31ya1oC2"
      },
      "execution_count": 1038,
      "outputs": []
    },
    {
      "cell_type": "markdown",
      "source": [
        "# Agents"
      ],
      "metadata": {
        "id": "vLLkheaN3v9e"
      }
    },
    {
      "cell_type": "code",
      "source": [
        "def random_ai(state, key=None, config=default_config):\n",
        "  if key == None:\n",
        "    key = jax.random.PRNGKey(int(time.time()))\n",
        "    \n",
        "  scores = jax.random.uniform(key, shape=(*state[0].shape[:-1], config['width']))\n",
        "  legal_cols = get_legal_cols(state)\n",
        "  legal_scores = jnp.where(legal_cols, scores, jnp.nan)\n",
        "\n",
        "  return jnp.nanargmax(legal_scores, axis=-1)[..., None]\n",
        "\n",
        "def random_plus_ai(state, key=None, config=default_config):\n",
        "  if key == None:\n",
        "    key = jax.random.PRNGKey(int(time.time()))\n",
        "\n",
        "  random_scores = jax.random.uniform(key, shape=(*state[0].shape[:-1], config['width']))\n",
        "  threats = get_threatening_columns(state, config)\n",
        "  wins = get_winning_columns(state, config)\n",
        "\n",
        "  adjusted_scores = 100*wins + 10*threats + random_scores\n",
        "  legal_scores = jnp.where(get_legal_cols(state), adjusted_scores, jnp.nan)\n",
        "\n",
        "\n",
        "  return jnp.nanargmax(legal_scores, axis=-1)[..., None]\n",
        "\n",
        "def rollout_ai(state, key=None, config=default_config, n_rollouts=100):\n",
        "  if key == None:\n",
        "    key = jax.random.PRNGKey(int(time.time()))\n",
        "\n",
        "  n_states = expand_next_states(state)\n",
        "  np_states = repeat_game(n_states, n_rollouts)\n",
        "\n",
        "  AIs = [random_plus_ai, random_plus_ai]\n",
        "  sim = Simulator(np_states, AIs, key)\n",
        "  results = sim.run()\n",
        "  \n",
        "  mean_scores = jnp.squeeze(jnp.mean(results, axis=0))\n",
        "  legal_scores = jnp.where(get_legal_cols(state), mean_scores, jnp.nan)\n",
        "\n",
        "  return np.nanargmax(legal_scores * (2*(state[3]&1) - 1), axis=-1)[..., None]"
      ],
      "metadata": {
        "id": "JJ9VZp3ebSws"
      },
      "execution_count": 3,
      "outputs": []
    },
    {
      "cell_type": "markdown",
      "source": [
        "# Simulator"
      ],
      "metadata": {
        "id": "9pi3iTTC1tXe"
      }
    },
    {
      "cell_type": "code",
      "source": [
        "class Simulator():\n",
        "  '''simulates game to end from a state with given AIs'''\n",
        "  \n",
        "  def __init__(self, game_state, AIs, key=None, config=default_config):\n",
        "    self.AIs = AIs\n",
        "    self.game_state = game_state\n",
        "    self.config = config\n",
        "\n",
        "    if key == None:\n",
        "      self.key = jax.random.PRNGKey(int(time.time()))\n",
        "    else:\n",
        "      self.key = key\n",
        "\n",
        "  def run(self, verbose=False):\n",
        "    # games should only take 42 moves if all are legal.\n",
        "    for i in jnp.arange(42):\n",
        "      self.key, subkey = jax.random.split(self.key)\n",
        "\n",
        "      if verbose:\n",
        "        print(f'move # {i+1}')\n",
        "\n",
        "\n",
        "      choices = self.AIs[i&1](self.game_state, subkey, self.config)\n",
        "      \n",
        "      if verbose:\n",
        "        print(jnp.squeeze(choices))\n",
        "\n",
        "      self.game_state = play_move(self.game_state, choices.astype(jnp.uint64))\n",
        "\n",
        "    return get_winners(self.game_state, self.config)"
      ],
      "metadata": {
        "id": "4aIWBX_uabi6"
      },
      "execution_count": 4,
      "outputs": []
    },
    {
      "cell_type": "code",
      "source": [
        "sim = Simulator(init_game(100), [rollout_ai, rollout_ai])\n",
        "%time jnp.mean(sim.run())"
      ],
      "metadata": {
        "colab": {
          "base_uri": "https://localhost:8080/"
        },
        "id": "wtyXcqcnasPR",
        "outputId": "c5b8fcfc-df8b-480f-f858-ef9f51f87ccb"
      },
      "execution_count": 5,
      "outputs": [
        {
          "output_type": "stream",
          "name": "stdout",
          "text": [
            "CPU times: user 8.1 s, sys: 1.89 s, total: 9.99 s\n",
            "Wall time: 12 s\n"
          ]
        },
        {
          "output_type": "execute_result",
          "data": {
            "text/plain": [
              "DeviceArray(-0.16, dtype=float32)"
            ]
          },
          "metadata": {},
          "execution_count": 5
        }
      ]
    },
    {
      "cell_type": "code",
      "source": [
        "sim = Simulator(init_game(1_000_000), [random_ai, random_ai])\n",
        "%time jnp.mean(sim.run())"
      ],
      "metadata": {
        "colab": {
          "base_uri": "https://localhost:8080/"
        },
        "id": "ba0wZkKiT0xK",
        "outputId": "09b857b7-86bc-4764-b5fc-7539696535c2"
      },
      "execution_count": 6,
      "outputs": [
        {
          "output_type": "stream",
          "name": "stdout",
          "text": [
            "CPU times: user 1.37 s, sys: 32.2 ms, total: 1.4 s\n",
            "Wall time: 2.42 s\n"
          ]
        },
        {
          "output_type": "execute_result",
          "data": {
            "text/plain": [
              "DeviceArray(-0.118528, dtype=float32)"
            ]
          },
          "metadata": {},
          "execution_count": 6
        }
      ]
    },
    {
      "cell_type": "code",
      "source": [
        "sim = Simulator(init_game(10_000_000), [random_plus_ai, random_plus_ai])\n",
        "%time jnp.mean(sim.run())"
      ],
      "metadata": {
        "colab": {
          "base_uri": "https://localhost:8080/"
        },
        "id": "AUmXisCYT4qQ",
        "outputId": "02692201-f21a-443d-bdcd-f2cbf53e407c"
      },
      "execution_count": 8,
      "outputs": [
        {
          "output_type": "stream",
          "name": "stdout",
          "text": [
            "CPU times: user 5.58 s, sys: 55.6 ms, total: 5.64 s\n",
            "Wall time: 6.35 s\n"
          ]
        },
        {
          "output_type": "execute_result",
          "data": {
            "text/plain": [
              "DeviceArray(-0.0663043, dtype=float32)"
            ]
          },
          "metadata": {},
          "execution_count": 8
        }
      ]
    },
    {
      "cell_type": "code",
      "source": [
        "sim = Simulator(init_game(10000), [rollout_ai, random_plus_ai])\n",
        "%time jnp.mean(sim.run())"
      ],
      "metadata": {
        "colab": {
          "base_uri": "https://localhost:8080/"
        },
        "id": "vhewVH-nUFpN",
        "outputId": "a23c3591-7d3a-4a39-c94d-42b083918418"
      },
      "execution_count": 10,
      "outputs": [
        {
          "output_type": "stream",
          "name": "stdout",
          "text": [
            "CPU times: user 1min 7s, sys: 694 ms, total: 1min 8s\n",
            "Wall time: 1min 9s\n"
          ]
        },
        {
          "output_type": "execute_result",
          "data": {
            "text/plain": [
              "DeviceArray(-0.99719995, dtype=float32)"
            ]
          },
          "metadata": {},
          "execution_count": 10
        }
      ]
    }
  ]
}